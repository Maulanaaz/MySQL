{
 "cells": [
  {
   "cell_type": "markdown",
   "metadata": {},
   "source": [
    "Saturday, 19/06/2021"
   ]
  },
  {
   "cell_type": "code",
   "execution_count": 13,
   "metadata": {},
   "outputs": [
    {
     "name": "stdout",
     "output_type": "stream",
     "text": [
      "   id                Nama                 Alamat\n",
      "0   1         Andi Subudi             Rowocacing\n",
      "1   2     Saitama Muktadi       Kedungwuni Barat\n",
      "2   3     Muhammad Naruto       Kedungwuni Utara\n",
      "3   4     Zulfikar Sasuke     Kedungwuni Selatan\n",
      "4   5  Sakura Putri Beban    Pekalongan Tenggara\n",
      "5   6       Obito Saputra  Pekalongan Barat Laut\n",
      "6   7     Arditya Kakashi       Kedungwuni Utara\n",
      "7   8         Rin Saputri                   Podo\n",
      "8   9        Ahmad Minato       Kedungwuni Utara\n"
     ]
    }
   ],
   "source": [
    "# Calling all data(s) from a table\n",
    "import mysql.connector\n",
    "import pandas as pd\n",
    "conn = mysql.connector.connect(host=\"localhost\",\n",
    "                               user = \"root\",\n",
    "                               passwd = \"***\",\n",
    "                               database = \"mydata\")\n",
    "\n",
    "myquery = \"\"\"\n",
    "SELECT * FROM pembeli;\n",
    "\"\"\"\n",
    "df = pd.read_sql(myquery,conn)\n",
    "print(df)\n",
    "conn.close()"
   ]
  },
  {
   "cell_type": "code",
   "execution_count": 15,
   "metadata": {},
   "outputs": [
    {
     "name": "stdout",
     "output_type": "stream",
     "text": [
      "                 Nama\n",
      "0         Andi Subudi\n",
      "1     Saitama Muktadi\n",
      "2     Muhammad Naruto\n",
      "3     Zulfikar Sasuke\n",
      "4  Sakura Putri Beban\n",
      "5       Obito Saputra\n",
      "6     Arditya Kakashi\n",
      "7         Rin Saputri\n",
      "8        Ahmad Minato\n"
     ]
    }
   ],
   "source": [
    "# Call a column from a table\n",
    "import mysql.connector\n",
    "import pandas as pd\n",
    "conn = mysql.connector.connect(host=\"localhost\",\n",
    "                               user = \"root\",\n",
    "                               passwd = \"***\",\n",
    "                               database = \"mydata\")\n",
    "\n",
    "myquery = \"\"\"\n",
    "SELECT Nama FROM pembeli;\n",
    "\"\"\"\n",
    "df = pd.read_sql(myquery,conn)\n",
    "print(df)\n",
    "conn.close()"
   ]
  },
  {
   "cell_type": "code",
   "execution_count": 16,
   "metadata": {},
   "outputs": [
    {
     "name": "stdout",
     "output_type": "stream",
     "text": [
      "   id                Nama\n",
      "0   1         Andi Subudi\n",
      "1   2     Saitama Muktadi\n",
      "2   3     Muhammad Naruto\n",
      "3   4     Zulfikar Sasuke\n",
      "4   5  Sakura Putri Beban\n",
      "5   6       Obito Saputra\n",
      "6   7     Arditya Kakashi\n",
      "7   8         Rin Saputri\n",
      "8   9        Ahmad Minato\n"
     ]
    }
   ],
   "source": [
    "# Call some tables using comma as a separator\n",
    "import mysql.connector\n",
    "import pandas as pd\n",
    "conn = mysql.connector.connect(host=\"localhost\",\n",
    "                               user = \"root\",\n",
    "                               passwd = \"***\",\n",
    "                               database = \"mydata\")\n",
    "\n",
    "myquery = \"\"\"\n",
    "SELECT id, Nama FROM pembeli;\n",
    "\"\"\"\n",
    "df = pd.read_sql(myquery,conn)\n",
    "print(df)\n",
    "conn.close()"
   ]
  },
  {
   "cell_type": "code",
   "execution_count": 17,
   "metadata": {},
   "outputs": [
    {
     "name": "stdout",
     "output_type": "stream",
     "text": [
      "   id                Nama               Alamat\n",
      "0   1         Andi Subudi           Rowocacing\n",
      "1   2     Saitama Muktadi     Kedungwuni Barat\n",
      "2   3     Muhammad Naruto     Kedungwuni Utara\n",
      "3   4     Zulfikar Sasuke   Kedungwuni Selatan\n",
      "4   5  Sakura Putri Beban  Pekalongan Tenggara\n"
     ]
    }
   ],
   "source": [
    "# Call all data(s) with row-limit\n",
    "import mysql.connector\n",
    "import pandas as pd\n",
    "conn = mysql.connector.connect(host=\"localhost\",\n",
    "                               user = \"root\",\n",
    "                               passwd = \"***\",\n",
    "                               database = \"mydata\")\n",
    "\n",
    "myquery = \"\"\"\n",
    "SELECT * FROM pembeli LIMIT 5;\n",
    "\"\"\"\n",
    "df = pd.read_sql(myquery,conn)\n",
    "print(df)\n",
    "conn.close()"
   ]
  },
  {
   "cell_type": "code",
   "execution_count": 19,
   "metadata": {},
   "outputs": [
    {
     "name": "stdout",
     "output_type": "stream",
     "text": [
      "                 Nama\n",
      "0         Andi Subudi\n",
      "1     Saitama Muktadi\n",
      "2     Muhammad Naruto\n",
      "3     Zulfikar Sasuke\n",
      "4  Sakura Putri Beban\n"
     ]
    }
   ],
   "source": [
    "# Use of Prefix\n",
    "import mysql.connector\n",
    "import pandas as pd\n",
    "conn = mysql.connector.connect(host=\"localhost\",\n",
    "                               user = \"root\",\n",
    "                               passwd = \"***\",\n",
    "                               database = \"mydata\")\n",
    "\n",
    "myquery = \"\"\"\n",
    "SELECT pembeli.Nama FROM pembeli LIMIT 5;\n",
    "\"\"\"\n",
    "df = pd.read_sql(myquery,conn)\n",
    "print(df)\n",
    "conn.close()"
   ]
  },
  {
   "cell_type": "code",
   "execution_count": 23,
   "metadata": {},
   "outputs": [
    {
     "name": "stdout",
     "output_type": "stream",
     "text": [
      "                 Name                Address\n",
      "0         Andi Subudi             Rowocacing\n",
      "1     Saitama Muktadi       Kedungwuni Barat\n",
      "2     Muhammad Naruto       Kedungwuni Utara\n",
      "3     Zulfikar Sasuke     Kedungwuni Selatan\n",
      "4  Sakura Putri Beban    Pekalongan Tenggara\n",
      "5       Obito Saputra  Pekalongan Barat Laut\n",
      "6     Arditya Kakashi       Kedungwuni Utara\n",
      "7         Rin Saputri                   Podo\n",
      "8        Ahmad Minato       Kedungwuni Utara\n"
     ]
    }
   ],
   "source": [
    "# Use of AS\n",
    "import mysql.connector\n",
    "import pandas as pd\n",
    "conn = mysql.connector.connect(host=\"localhost\",\n",
    "                               user = \"root\",\n",
    "                               passwd = \"***\",\n",
    "                               database = \"mydata\")\n",
    "\n",
    "myquery = \"\"\"\n",
    "SELECT Nama AS Name,Alamat AS Address FROM pembeli;\n",
    "\"\"\"\n",
    "df = pd.read_sql(myquery,conn)\n",
    "print(df)\n",
    "conn.close()"
   ]
  },
  {
   "cell_type": "code",
   "execution_count": 25,
   "metadata": {},
   "outputs": [
    {
     "name": "stdout",
     "output_type": "stream",
     "text": [
      "                 Name                Address\n",
      "0         Andi Subudi             Rowocacing\n",
      "1     Saitama Muktadi       Kedungwuni Barat\n",
      "2     Muhammad Naruto       Kedungwuni Utara\n",
      "3     Zulfikar Sasuke     Kedungwuni Selatan\n",
      "4  Sakura Putri Beban    Pekalongan Tenggara\n",
      "5       Obito Saputra  Pekalongan Barat Laut\n",
      "6     Arditya Kakashi       Kedungwuni Utara\n",
      "7         Rin Saputri                   Podo\n",
      "8        Ahmad Minato       Kedungwuni Utara\n"
     ]
    }
   ],
   "source": [
    "# Defining a.k.a without AS operator\n",
    "import mysql.connector\n",
    "import pandas as pd\n",
    "conn = mysql.connector.connect(host=\"localhost\",\n",
    "                               user = \"root\",\n",
    "                               passwd = \"***\",\n",
    "                               database = \"mydata\")\n",
    "\n",
    "myquery = \"\"\"\n",
    "SELECT Nama Name,Alamat Address FROM pembeli;\n",
    "\"\"\"\n",
    "df = pd.read_sql(myquery,conn)\n",
    "print(df)\n",
    "conn.close()"
   ]
  },
  {
   "cell_type": "code",
   "execution_count": 26,
   "metadata": {},
   "outputs": [
    {
     "name": "stdout",
     "output_type": "stream",
     "text": [
      "                 Name                Address\n",
      "0         Andi Subudi             Rowocacing\n",
      "1     Saitama Muktadi       Kedungwuni Barat\n",
      "2     Muhammad Naruto       Kedungwuni Utara\n",
      "3     Zulfikar Sasuke     Kedungwuni Selatan\n",
      "4  Sakura Putri Beban    Pekalongan Tenggara\n",
      "5       Obito Saputra  Pekalongan Barat Laut\n",
      "6     Arditya Kakashi       Kedungwuni Utara\n",
      "7         Rin Saputri                   Podo\n",
      "8        Ahmad Minato       Kedungwuni Utara\n"
     ]
    }
   ],
   "source": [
    "# Combine AS and Prefix\n",
    "import mysql.connector\n",
    "import pandas as pd\n",
    "conn = mysql.connector.connect(host=\"localhost\",\n",
    "                               user = \"root\",\n",
    "                               passwd = \"***\",\n",
    "                               database = \"mydata\")\n",
    "\n",
    "myquery = \"\"\"\n",
    "SELECT pembeli.Nama AS Name, pembeli.Alamat AS Address FROM pembeli;\n",
    "\"\"\"\n",
    "df = pd.read_sql(myquery,conn)\n",
    "print(df)"
   ]
  },
  {
   "cell_type": "code",
   "execution_count": 27,
   "metadata": {},
   "outputs": [
    {
     "name": "stdout",
     "output_type": "stream",
     "text": [
      "   id                Nama                 Alamat\n",
      "0   1         Andi Subudi             Rowocacing\n",
      "1   2     Saitama Muktadi       Kedungwuni Barat\n",
      "2   3     Muhammad Naruto       Kedungwuni Utara\n",
      "3   4     Zulfikar Sasuke     Kedungwuni Selatan\n",
      "4   5  Sakura Putri Beban    Pekalongan Tenggara\n",
      "5   6       Obito Saputra  Pekalongan Barat Laut\n",
      "6   7     Arditya Kakashi       Kedungwuni Utara\n",
      "7   8         Rin Saputri                   Podo\n",
      "8   9        Ahmad Minato       Kedungwuni Utara\n"
     ]
    }
   ],
   "source": [
    "# AS from table\n",
    "import mysql.connector\n",
    "import pandas as pd\n",
    "conn = mysql.connector.connect(host=\"localhost\",\n",
    "                               user = \"root\",\n",
    "                               passwd = \"***\",\n",
    "                               database = \"mydata\")\n",
    "\n",
    "myquery = \"\"\"\n",
    "SELECT * FROM pembeli AS Buyer;\n",
    "\"\"\"\n",
    "df = pd.read_sql(myquery,conn)\n",
    "print(df)"
   ]
  },
  {
   "cell_type": "code",
   "execution_count": 29,
   "metadata": {},
   "outputs": [
    {
     "name": "stdout",
     "output_type": "stream",
     "text": [
      "                 Nama                 Alamat\n",
      "0         Andi Subudi             Rowocacing\n",
      "1     Saitama Muktadi       Kedungwuni Barat\n",
      "2     Muhammad Naruto       Kedungwuni Utara\n",
      "3     Zulfikar Sasuke     Kedungwuni Selatan\n",
      "4  Sakura Putri Beban    Pekalongan Tenggara\n",
      "5       Obito Saputra  Pekalongan Barat Laut\n",
      "6     Arditya Kakashi       Kedungwuni Utara\n",
      "7         Rin Saputri                   Podo\n",
      "8        Ahmad Minato       Kedungwuni Utara\n"
     ]
    }
   ],
   "source": [
    "# Prefix and AS for table\n",
    "import mysql.connector\n",
    "import pandas as pd\n",
    "conn = mysql.connector.connect(host=\"localhost\",\n",
    "                               user = \"root\",\n",
    "                               passwd = \"***\",\n",
    "                               database = \"mydata\")\n",
    "\n",
    "myquery = \"\"\"\n",
    "SELECT buyer.Nama,buyer.Alamat FROM pembeli AS buyer;\n",
    "\"\"\"\n",
    "df = pd.read_sql(myquery,conn)\n",
    "print(df)\n",
    "conn.close()"
   ]
  },
  {
   "cell_type": "code",
   "execution_count": 30,
   "metadata": {},
   "outputs": [
    {
     "name": "stdout",
     "output_type": "stream",
     "text": [
      "   id             Nama            Alamat\n",
      "0   3  Muhammad Naruto  Kedungwuni Utara\n",
      "1   7  Arditya Kakashi  Kedungwuni Utara\n",
      "2   9     Ahmad Minato  Kedungwuni Utara\n"
     ]
    }
   ],
   "source": [
    "# Using filter 'WHERE'\n",
    "import mysql.connector\n",
    "import pandas as pd\n",
    "conn = mysql.connector.connect(host=\"localhost\",\n",
    "                               user = \"root\",\n",
    "                               passwd = \"***\",\n",
    "                               database = \"mydata\")\n",
    "\n",
    "myquery = \"\"\"\n",
    "SELECT * FROM pembeli WHERE Alamat = 'Kedungwuni Utara';\n",
    "\"\"\"\n",
    "df = pd.read_sql(myquery,conn)\n",
    "print(df)\n",
    "conn.close()"
   ]
  },
  {
   "cell_type": "code",
   "execution_count": 31,
   "metadata": {},
   "outputs": [
    {
     "name": "stdout",
     "output_type": "stream",
     "text": [
      "   id             Nama            Alamat\n",
      "0   2  Saitama Muktadi  Kedungwuni Barat\n",
      "1   3  Muhammad Naruto  Kedungwuni Utara\n",
      "2   7  Arditya Kakashi  Kedungwuni Utara\n",
      "3   9     Ahmad Minato  Kedungwuni Utara\n"
     ]
    }
   ],
   "source": [
    "# Using OR operator\n",
    "import mysql.connector\n",
    "import pandas as pd\n",
    "conn = mysql.connector.connect(host=\"localhost\",\n",
    "                               user = \"root\",\n",
    "                               passwd = \"***\",\n",
    "                               database = \"mydata\")\n",
    "\n",
    "myquery = \"\"\"\n",
    "SELECT * FROM pembeli WHERE Alamat = 'Kedungwuni Barat' OR Alamat = 'Kedungwuni Utara';\n",
    "\"\"\"\n",
    "df = pd.read_sql(myquery,conn)\n",
    "print(df)\n",
    "conn.close()"
   ]
  },
  {
   "cell_type": "code",
   "execution_count": 33,
   "metadata": {},
   "outputs": [
    {
     "name": "stdout",
     "output_type": "stream",
     "text": [
      "   id            Bulan  Positif  Sembuh  Meninggal\n",
      "0   5              Mei    26473    7308       1613\n",
      "1   6  Juni(continues)    41431   16243       2276\n"
     ]
    }
   ],
   "source": [
    "# Using AND operator\n",
    "import mysql.connector\n",
    "import pandas as pd\n",
    "conn = mysql.connector.connect(host=\"localhost\",\n",
    "                               user = \"root\",\n",
    "                               passwd = \"***\",\n",
    "                               database = \"covid19\")\n",
    "\n",
    "myquery = \"\"\"\n",
    "SELECT * FROM data_ WHERE Positif >10000 AND Meninggal > 1000;\n",
    "\"\"\"\n",
    "df = pd.read_sql(myquery,conn)\n",
    "print(df)\n",
    "conn.close()"
   ]
  },
  {
   "cell_type": "markdown",
   "metadata": {},
   "source": [
    "Learning Source : www.dqlab.id"
   ]
  }
 ],
 "metadata": {
  "kernelspec": {
   "display_name": "Python 3",
   "language": "python",
   "name": "python3"
  },
  "language_info": {
   "codemirror_mode": {
    "name": "ipython",
    "version": 3
   },
   "file_extension": ".py",
   "mimetype": "text/x-python",
   "name": "python",
   "nbconvert_exporter": "python",
   "pygments_lexer": "ipython3",
   "version": "3.6.12"
  }
 },
 "nbformat": 4,
 "nbformat_minor": 4
}
